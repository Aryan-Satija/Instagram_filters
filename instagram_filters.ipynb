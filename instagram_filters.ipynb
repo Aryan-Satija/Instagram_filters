{
 "cells": [
  {
   "cell_type": "code",
   "execution_count": 1,
   "id": "bec66dbf-ba39-480a-85ac-99abfff107ed",
   "metadata": {},
   "outputs": [],
   "source": [
    "import numpy as np\n",
    "import pandas as pd\n",
    "import matplotlib.pyplot as plt\n",
    "import cv2 as cv"
   ]
  },
  {
   "cell_type": "markdown",
   "id": "11df1200-38f3-4044-9800-ad02d642be54",
   "metadata": {},
   "source": [
    "## Adjusting Brightness"
   ]
  },
  {
   "cell_type": "code",
   "execution_count": 41,
   "id": "f6600b15-009d-4259-a165-205c9039855a",
   "metadata": {},
   "outputs": [],
   "source": [
    "pixels = float(50)\n",
    "\n",
    "cam = cv.VideoCapture(0)\n",
    "\n",
    "while True:\n",
    "    frameCaptured, frame_1 = cam.read()\n",
    "    frame_1 = cv.flip(frame_1, 1);\n",
    "    if frameCaptured:\n",
    "        frame_2 = frame_1 + pixels;\n",
    "        frame_2[frame_2 < 0] = 0;\n",
    "        frame_2[frame_2 > 255] = 255;\n",
    "        \n",
    "        frame_2 = frame_2.astype(np.uint8)\n",
    "\n",
    "        cv.imshow(\"Original\", frame_1)\n",
    "        cv.imshow(\"Filtered Image\", frame_2)\n",
    "\n",
    "        key = cv.waitKey(1)\n",
    "        if key == 27:\n",
    "            cam.release()\n",
    "            break\n",
    "    else:\n",
    "        cam.release()\n",
    "        break"
   ]
  },
  {
   "cell_type": "code",
   "execution_count": 42,
   "id": "3c47f12b-1461-4fe6-91bd-58f5312143c8",
   "metadata": {},
   "outputs": [],
   "source": [
    "pixels = float(50)\n",
    "\n",
    "cam = cv.VideoCapture(0)\n",
    "\n",
    "while True:\n",
    "    frameCaptured, frame_1 = cam.read()\n",
    "    frame_1 = cv.flip(frame_1, 1);\n",
    "    if frameCaptured:\n",
    "        frame_2 = frame_1 - pixels;\n",
    "        frame_2[frame_2 < 0] = 0;\n",
    "        frame_2[frame_2 > 255] = 255;\n",
    "        \n",
    "        frame_2 = frame_2.astype(np.uint8)\n",
    "\n",
    "        cv.imshow(\"Original\", frame_1)\n",
    "        cv.imshow(\"Filtered Image\", frame_2)\n",
    "\n",
    "        key = cv.waitKey(1)\n",
    "        if key == 27:\n",
    "            cam.release()\n",
    "            break\n",
    "    else:\n",
    "        cam.release()\n",
    "        break"
   ]
  },
  {
   "cell_type": "markdown",
   "id": "a35d950b-2372-4596-af43-582162c6b0ef",
   "metadata": {},
   "source": [
    "## Warm / Cool Filters"
   ]
  },
  {
   "cell_type": "code",
   "execution_count": 43,
   "id": "888efb8a-1e2b-496e-9674-3cf498333b02",
   "metadata": {},
   "outputs": [],
   "source": [
    "yellow = [108, 222, 249]\n",
    "\n",
    "cam = cv.VideoCapture(0)\n",
    "\n",
    "def getWarmTone():\n",
    "    background = []\n",
    "    for i in range(0, 480, 1):\n",
    "        background_row = []\n",
    "        for j in range(0, 640, 1):\n",
    "            background_row.append(yellow)\n",
    "        background.append(background_row)\n",
    "    background = np.array(background).astype(np.uint8)\n",
    "    return background\n",
    "        \n",
    "while True:\n",
    "    frameCaptured, frame_1 = cam.read();\n",
    "    if frameCaptured:\n",
    "        background = getWarmTone()\n",
    "        frame_1 = cv.flip(frame_1, 1)\n",
    "        \n",
    "        \n",
    "        frame_2 = cv.addWeighted(frame_1, 0.9, background, 0.1, 0)\n",
    "        \n",
    "        cv.imshow(\"Original\", frame_1)\n",
    "        cv.imshow(\"Filered Image\", frame_2)\n",
    "        if cv.waitKey(1) == 27:\n",
    "            cam.release()\n",
    "            break\n",
    "    else:\n",
    "        cam.release()\n",
    "        break\n",
    "        "
   ]
  },
  {
   "cell_type": "code",
   "execution_count": 16,
   "id": "d873d139-8de6-4d28-9d3d-f2c97c67d74a",
   "metadata": {},
   "outputs": [],
   "source": [
    "blue = [247, 206, 139]\n",
    "\n",
    "cam = cv.VideoCapture(0)\n",
    "\n",
    "def getCoolTone():\n",
    "    background = []\n",
    "    for i in range(0, 480, 1):\n",
    "        background_row = []\n",
    "        for j in range(0, 640, 1):\n",
    "            background_row.append(blue)\n",
    "        background.append(background_row)\n",
    "    background = np.array(background).astype(np.uint8)\n",
    "    return background\n",
    "        \n",
    "while True:\n",
    "    frameCaptured, frame_1 = cam.read();\n",
    "    if frameCaptured:\n",
    "        background = getCoolTone()\n",
    "        frame_1 = cv.flip(frame_1, 1)\n",
    "        \n",
    "        \n",
    "        frame_2 = cv.addWeighted(frame_1, 0.9, background, 0.1, 0)\n",
    "        \n",
    "        cv.imshow(\"Original\", frame_1)\n",
    "        cv.imshow(\"Filered Image\", frame_2)\n",
    "        if cv.waitKey(1) == 27:\n",
    "            cam.release()\n",
    "            break\n",
    "    else:\n",
    "        cam.release()\n",
    "        break"
   ]
  },
  {
   "cell_type": "markdown",
   "id": "cff3caa9-8f39-4f72-95f9-9dc92c798349",
   "metadata": {},
   "source": [
    "## Adding Gradients"
   ]
  },
  {
   "cell_type": "code",
   "execution_count": 44,
   "id": "f24aeaf5-b79d-4401-af11-1613ea84ac42",
   "metadata": {},
   "outputs": [],
   "source": [
    "def merge(foreground, background, f, b):\n",
    "    rows, cols = foreground.shape[0], foreground.shape[1]\n",
    "    background = cv.resize(background, (cols, rows))\n",
    "    final = cv.addWeighted(foreground, f, background, b, 0)\n",
    "    return final\n",
    "\n",
    "background = cv.imread('background.jpg')\n",
    "\n",
    "cam = cv.VideoCapture(0)  \n",
    "\n",
    "while True:\n",
    "    isCaptured, foreground = cam.read()\n",
    "    if isCaptured:\n",
    "        foreground = merge(foreground, background, 0.9, 0.1)\n",
    "        \n",
    "        cv.imshow(\"image\", foreground)\n",
    "        cv.imshow(\"image2\", background)\n",
    "        if cv.waitKey(1) == 27:\n",
    "            cam.release()\n",
    "            break\n",
    "    else:\n",
    "        cam.release()\n",
    "        break"
   ]
  },
  {
   "cell_type": "markdown",
   "id": "e2dada81-218a-41c4-b2c0-1b54e1bc6ad1",
   "metadata": {},
   "source": [
    "## Edge Detection Filter"
   ]
  },
  {
   "cell_type": "code",
   "execution_count": 45,
   "id": "5da1032e-215c-4bf6-897b-1fe2fabc6fa8",
   "metadata": {},
   "outputs": [],
   "source": [
    "cam = cv.VideoCapture(0)\n",
    "        \n",
    "while True:\n",
    "    frameCaptured, frame_1 = cam.read();\n",
    "    if frameCaptured:\n",
    "        frame_1 = cv.flip(frame_1, 1)\n",
    "        frame_1 = cv.blur(frame_1, (8, 8))\n",
    "        frame_2 = cv.Canny(frame_1, 10, 60)\n",
    "        cv.imshow(\"Original\", frame_1)\n",
    "        cv.imshow(\"Filered Image\", frame_2)\n",
    "        if cv.waitKey(1) == 27:\n",
    "            cam.release()\n",
    "            break\n",
    "    else:\n",
    "        cam.release()\n",
    "        break"
   ]
  },
  {
   "cell_type": "markdown",
   "id": "fd5d95c3-89ec-4a5c-bfb3-53cfff95728a",
   "metadata": {},
   "source": [
    "## Blue-Red Inversion Filter"
   ]
  },
  {
   "cell_type": "code",
   "execution_count": 46,
   "id": "21254525-b805-428f-a55b-1de7314d682f",
   "metadata": {},
   "outputs": [],
   "source": [
    "cam = cv.VideoCapture(0)\n",
    "\n",
    "while True:\n",
    "    isCaptured, frame = cam.read()\n",
    "    if isCaptured:\n",
    "        Bgr = cv.cvtColor(frame, cv.COLOR_RGB2BGR)\n",
    "        cv.imshow(\"frame\", frame)\n",
    "        cv.imshow(\"BGR\", Bgr)\n",
    "        key = cv.waitKey(1)\n",
    "        if key == 27:\n",
    "            cam.release()\n",
    "            break\n",
    "    else:\n",
    "        cam.release()\n",
    "        break"
   ]
  },
  {
   "cell_type": "markdown",
   "id": "adc8bf00-2e3c-47f5-a216-5b653bb8d319",
   "metadata": {},
   "source": [
    "## Grayscale"
   ]
  },
  {
   "cell_type": "code",
   "execution_count": 47,
   "id": "d3c4196d-fe71-4b2e-ae15-301e95b77d97",
   "metadata": {},
   "outputs": [],
   "source": [
    "cam = cv.VideoCapture(0)\n",
    "\n",
    "while True:\n",
    "    isCaptured, frame = cam.read()\n",
    "    if isCaptured:\n",
    "        Bgr = cv.cvtColor(frame, cv.COLOR_RGB2GRAY)\n",
    "        cv.imshow(\"frame\", frame)\n",
    "        cv.imshow(\"gray\", Bgr)\n",
    "        key = cv.waitKey(1)\n",
    "        if key == 27:\n",
    "            cam.release()\n",
    "            break\n",
    "    else:\n",
    "        cam.release()\n",
    "        break"
   ]
  },
  {
   "cell_type": "markdown",
   "id": "8c98e45c-dc10-4762-b940-6c196bd5e28b",
   "metadata": {},
   "source": [
    "## Masking"
   ]
  },
  {
   "cell_type": "code",
   "execution_count": 9,
   "id": "5ba876a5-56bb-46eb-aaaa-cc31f006fe29",
   "metadata": {},
   "outputs": [],
   "source": [
    "cam = cv.VideoCapture(0)\n",
    "lower = np.array([0, 0, 0])\n",
    "upper = np.array([100, 100, 100])\n",
    "\n",
    "while True:\n",
    "    isCaptured, frame = cam.read()\n",
    "    if isCaptured:\n",
    "        frame = cv.blur(frame, (4, 4))\n",
    "        mask = cv.inRange(frame, lower, upper)\n",
    "        cv.imshow(\"Original\", frame)\n",
    "        cv.imshow(\"Filter\", mask)\n",
    "        if cv.waitKey(1) == 27:\n",
    "            cam.release()\n",
    "            break\n",
    "        \n",
    "    else:\n",
    "        cam.release()\n",
    "        break"
   ]
  }
 ],
 "metadata": {
  "kernelspec": {
   "display_name": "Python 3 (ipykernel)",
   "language": "python",
   "name": "python3"
  },
  "language_info": {
   "codemirror_mode": {
    "name": "ipython",
    "version": 3
   },
   "file_extension": ".py",
   "mimetype": "text/x-python",
   "name": "python",
   "nbconvert_exporter": "python",
   "pygments_lexer": "ipython3",
   "version": "3.11.7"
  }
 },
 "nbformat": 4,
 "nbformat_minor": 5
}
